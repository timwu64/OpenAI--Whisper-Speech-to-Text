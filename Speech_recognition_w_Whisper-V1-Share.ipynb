{
 "cells": [
  {
   "cell_type": "code",
   "execution_count": null,
   "id": "7cd9cbd8",
   "metadata": {},
   "outputs": [],
   "source": [
    "#!pip install openai\n",
    "#!pip install pydub\n",
    "#!pip install soundcard\n",
    "#!pip install soundfile"
   ]
  },
  {
   "cell_type": "code",
   "execution_count": null,
   "id": "12533a54",
   "metadata": {},
   "outputs": [],
   "source": [
    "TOKEN = 'XXXXX'"
   ]
  },
  {
   "cell_type": "code",
   "execution_count": null,
   "id": "78a4c67f",
   "metadata": {},
   "outputs": [],
   "source": [
    "# Recording duration\n",
    "RECORD_MIN =  int(input(\"Enter time duration in minutes: \"))*60 # [min]. duration recording audio.\n",
    "OUTPUT_FILE_NAME = \"output.wav\"    # file name.\n",
    "SAMPLE_RATE = 48000              # [Hz]. sampling rate"
   ]
  },
  {
   "cell_type": "code",
   "execution_count": null,
   "id": "afb6d1be",
   "metadata": {},
   "outputs": [],
   "source": [
    "import soundcard as sc\n",
    "import soundfile as sf\n",
    "from pydub import AudioSegment\n",
    "import datetime\n",
    "import os\n",
    "import openai\n",
    "openai.api_key = TOKEN"
   ]
  },
  {
   "cell_type": "code",
   "execution_count": null,
   "id": "c89f9d25",
   "metadata": {},
   "outputs": [],
   "source": [
    "with sc.get_microphone(id=str(sc.default_speaker().name), include_loopback=True).recorder(samplerate=SAMPLE_RATE) as mic:\n",
    "    # record audio with loopback from default speaker.\n",
    "    print(\"Recording.....n\")\n",
    "    data = mic.record(numframes=SAMPLE_RATE*RECORD_MIN)\n",
    "    \n",
    "    # change \"data=data[:, 0]\" to \"data=data\", if you would like to write audio as multiple-channels.\n",
    "    sf.write(file=OUTPUT_FILE_NAME, data=data[:, 0], samplerate=SAMPLE_RATE)\n",
    "    print(\"End Recording\")"
   ]
  },
  {
   "cell_type": "code",
   "execution_count": null,
   "id": "92fa10e8",
   "metadata": {},
   "outputs": [],
   "source": [
    "# Initialize an empty string to hold the transcript\n",
    "transcript = \"\"\n",
    "\n",
    "# load audio file\n",
    "sound = AudioSegment.from_file(OUTPUT_FILE_NAME, format='wav')\n",
    "\n",
    "# Set the segment length（unit：ms）\n",
    "segment_length = 100000\n",
    "\n",
    "# segment the audio file to multiple file\n",
    "for i, chunk in enumerate(sound[::segment_length]):\n",
    "    # Set the file name\n",
    "    chunk.export(f'output_{i}.wav', format='wav')\n",
    "    audio_file = open(f'output_{i}.wav', \"rb\")\n",
    "    transcription = openai.Audio.transcribe(\"whisper-1\", audio_file)\n",
    "    # Concatenate the resulting text with the existing transcript\n",
    "    transcript += transcription.to_dict().get('text') + ' '\n",
    "    \n",
    "# Print the final transcript\n",
    "#print(transcript)"
   ]
  },
  {
   "cell_type": "code",
   "execution_count": null,
   "id": "06b2280d",
   "metadata": {},
   "outputs": [],
   "source": [
    "transcript_ary = []\n",
    "\n",
    "ret = ''\n",
    "for script in transcript.split():\n",
    "    ret = ret + ' ' + script\n",
    "    if len(ret) > 1000:\n",
    "        transcript_ary.append(ret)\n",
    "        ret = ''\n",
    "transcript_ary.append(ret)\n",
    "#print(transcript_ary)"
   ]
  },
  {
   "cell_type": "code",
   "execution_count": null,
   "id": "035b68cf",
   "metadata": {},
   "outputs": [],
   "source": [
    "# Get the current date and time\n",
    "now = datetime.datetime.now()\n",
    "# Format the date and time as a string\n",
    "timestamp = now.strftime(\"%Y-%m-%d_%H-%M-%S\")\n",
    "# Set the file name using the timestamp\n",
    "filename = f\"Raw_transcript_response_{timestamp}.txt\"\n",
    "\n",
    "# Print the name of the saved file\n",
    "print(f\"Data saved to {filename}.\")\n",
    "\n",
    "# Open the file in write mode and save the data\n",
    "with open(filename, \"w\", encoding=\"utf-8\") as f:\n",
    "    for item in transcript_ary:\n",
    "        f.write(item + \"\\n\")"
   ]
  },
  {
   "cell_type": "code",
   "execution_count": null,
   "id": "7ea07e3c",
   "metadata": {},
   "outputs": [],
   "source": [
    "result_ary = []\n",
    "\n",
    "for t in transcript_ary:\n",
    "    completion = openai.ChatCompletion.create(\n",
    "      model=\"gpt-3.5-turbo\",\n",
    "      messages=[\n",
    "        {\"role\": \"system\", \"content\": \"Please be a professional writer for article summarization and refine, rewrite, and summarize the following text in english\"},\n",
    "        {\"role\": \"user\", \"content\": t}\n",
    "      ]\n",
    "    )\n",
    "\n",
    "    result_ary.append(completion.choices[0].message)"
   ]
  },
  {
   "cell_type": "code",
   "execution_count": null,
   "id": "f04acbb0",
   "metadata": {},
   "outputs": [],
   "source": [
    "# Initialize an empty string to hold the transcript\n",
    "final_result = \"\"\n",
    "for res in result_ary:\n",
    "    # Concatenate the resulting text with the existing transcript\n",
    "    final_result += res.get('content') + ' '\n",
    "    print(res.get('content'))"
   ]
  },
  {
   "cell_type": "code",
   "execution_count": null,
   "id": "a6ea9860",
   "metadata": {},
   "outputs": [],
   "source": [
    "# Get the current date and time\n",
    "now = datetime.datetime.now()\n",
    "# Format the date and time as a string\n",
    "timestamp = now.strftime(\"%Y-%m-%d_%H-%M-%S\")\n",
    "# Set the file name using the timestamp\n",
    "filename = f\"Summary_response_{timestamp}.txt\"\n",
    "\n",
    "# Open the file in write mode and save the data\n",
    "with open(filename, \"w\") as f:\n",
    "    f.write(final_result)\n",
    "\n",
    "# Print the name of the saved file\n",
    "print(f\"Data saved to {filename}.\")"
   ]
  },
  {
   "cell_type": "code",
   "execution_count": null,
   "id": "6a9c0e68",
   "metadata": {},
   "outputs": [],
   "source": []
  }
 ],
 "metadata": {
  "kernelspec": {
   "display_name": "Python 3 (ipykernel)",
   "language": "python",
   "name": "python3"
  },
  "language_info": {
   "codemirror_mode": {
    "name": "ipython",
    "version": 3
   },
   "file_extension": ".py",
   "mimetype": "text/x-python",
   "name": "python",
   "nbconvert_exporter": "python",
   "pygments_lexer": "ipython3",
   "version": "3.9.7"
  }
 },
 "nbformat": 4,
 "nbformat_minor": 5
}
